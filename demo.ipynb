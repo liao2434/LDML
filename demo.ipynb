{
 "cells": [
  {
   "cell_type": "markdown",
   "metadata": {},
   "source": [
    "# LDML"
   ]
  },
  {
   "cell_type": "code",
   "execution_count": 1,
   "metadata": {},
   "outputs": [],
   "source": [
    "import pandas as pd\n",
    "from double_ml_data import DoubleMLData\n",
    "data=pd.read_csv(\"D:\\Rworkspace\\LDML\\data.csv\",index_col=0)\n",
    "data.index=data.index-1\n",
    "dataset=DoubleMLData(data,\"net_tfa\",\"p401\",x_cols=[\"age\",\"inc\",\"educ\",\"fsize\",\"marr\",\"twoearn\",\"db\",\"pira\",\"hown\" ])"
   ]
  },
  {
   "cell_type": "code",
   "execution_count": 2,
   "metadata": {},
   "outputs": [
    {
     "name": "stdout",
     "output_type": "stream",
     "text": [
      "================== DoubleMLData Object ==================\n",
      "\n",
      "------------------ Data summary      ------------------\n",
      "Outcome variable: net_tfa\n",
      "Treatment variable(s): ['p401']\n",
      "Covariates: ['age', 'inc', 'educ', 'fsize', 'marr', 'twoearn', 'db', 'pira', 'hown']\n",
      "Instrument variable(s): None\n",
      "No. Observations: 9915\n",
      "\n",
      "------------------ DataFrame info    ------------------\n",
      "<class 'pandas.core.frame.DataFrame'>\n",
      "Int64Index: 9915 entries, 0 to 9914\n",
      "Columns: 14 entries, nifa to hown\n",
      "dtypes: float64(3), int64(11)\n",
      "memory usage: 1.1 MB\n",
      "\n"
     ]
    }
   ],
   "source": [
    "print(dataset)"
   ]
  },
  {
   "cell_type": "code",
   "execution_count": 3,
   "metadata": {},
   "outputs": [],
   "source": [
    "from sklearn.ensemble import RandomForestRegressor\n",
    "from ldml import LocalizedDML\n",
    "learner = RandomForestRegressor(n_estimators=50, max_depth=7, max_features=3, min_samples_leaf=3)\n",
    "final_model=LocalizedDML([0.25,0.5,0.75],dataset,5,learner,trim_type='clip',semiadaptive=False)"
   ]
  },
  {
   "cell_type": "code",
   "execution_count": 4,
   "metadata": {},
   "outputs": [
    {
     "name": "stdout",
     "output_type": "stream",
     "text": [
      "   gamma       q1       q0     qte        se1        se0      seqte\n",
      "0   0.25    272.0   -791.0  1063.0   3.981826  16.431441  17.185666\n",
      "1   0.50   5513.0    975.0  4538.0  24.726983  23.947594  37.513267\n",
      "2   0.75  22899.0  15199.0  7700.0  40.303786  22.804206  53.125206\n"
     ]
    }
   ],
   "source": [
    "result=final_model.fit()\n",
    "print(result)"
   ]
  },
  {
   "cell_type": "markdown",
   "metadata": {},
   "source": [
    "# 含缺失值线性模型估计"
   ]
  },
  {
   "cell_type": "code",
   "execution_count": 5,
   "metadata": {},
   "outputs": [],
   "source": [
    "import numpy as np\n",
    "import pandas as pd\n",
    "from sklearn.linear_model import LinearRegression,LogisticRegression\n",
    "from missing_data import MissingDataLinear,MissingDataLogistics"
   ]
  },
  {
   "cell_type": "code",
   "execution_count": 6,
   "metadata": {},
   "outputs": [
    {
     "data": {
      "text/html": [
       "<div>\n",
       "<style scoped>\n",
       "    .dataframe tbody tr th:only-of-type {\n",
       "        vertical-align: middle;\n",
       "    }\n",
       "\n",
       "    .dataframe tbody tr th {\n",
       "        vertical-align: top;\n",
       "    }\n",
       "\n",
       "    .dataframe thead th {\n",
       "        text-align: right;\n",
       "    }\n",
       "</style>\n",
       "<table border=\"1\" class=\"dataframe\">\n",
       "  <thead>\n",
       "    <tr style=\"text-align: right;\">\n",
       "      <th></th>\n",
       "      <th>X1</th>\n",
       "      <th>X2</th>\n",
       "      <th>X3</th>\n",
       "      <th>Y</th>\n",
       "    </tr>\n",
       "  </thead>\n",
       "  <tbody>\n",
       "    <tr>\n",
       "      <th>0</th>\n",
       "      <td>2.017284</td>\n",
       "      <td>0.969672</td>\n",
       "      <td>1.322154</td>\n",
       "      <td>9.048274</td>\n",
       "    </tr>\n",
       "    <tr>\n",
       "      <th>1</th>\n",
       "      <td>-0.384347</td>\n",
       "      <td>1.042059</td>\n",
       "      <td>1.934429</td>\n",
       "      <td>5.620539</td>\n",
       "    </tr>\n",
       "    <tr>\n",
       "      <th>2</th>\n",
       "      <td>1.718156</td>\n",
       "      <td>1.527338</td>\n",
       "      <td>2.110364</td>\n",
       "      <td>11.741008</td>\n",
       "    </tr>\n",
       "    <tr>\n",
       "      <th>3</th>\n",
       "      <td>0.596675</td>\n",
       "      <td>-0.165156</td>\n",
       "      <td>3.075305</td>\n",
       "      <td>9.653289</td>\n",
       "    </tr>\n",
       "    <tr>\n",
       "      <th>4</th>\n",
       "      <td>1.220425</td>\n",
       "      <td>0.828551</td>\n",
       "      <td>2.486482</td>\n",
       "      <td>11.982931</td>\n",
       "    </tr>\n",
       "    <tr>\n",
       "      <th>...</th>\n",
       "      <td>...</td>\n",
       "      <td>...</td>\n",
       "      <td>...</td>\n",
       "      <td>...</td>\n",
       "    </tr>\n",
       "    <tr>\n",
       "      <th>995</th>\n",
       "      <td>0.432514</td>\n",
       "      <td>-0.014072</td>\n",
       "      <td>1.296396</td>\n",
       "      <td>5.218871</td>\n",
       "    </tr>\n",
       "    <tr>\n",
       "      <th>996</th>\n",
       "      <td>0.666455</td>\n",
       "      <td>-0.595158</td>\n",
       "      <td>3.454589</td>\n",
       "      <td>8.383418</td>\n",
       "    </tr>\n",
       "    <tr>\n",
       "      <th>997</th>\n",
       "      <td>0.812427</td>\n",
       "      <td>2.275764</td>\n",
       "      <td>2.419934</td>\n",
       "      <td>9.767427</td>\n",
       "    </tr>\n",
       "    <tr>\n",
       "      <th>998</th>\n",
       "      <td>1.867103</td>\n",
       "      <td>0.472542</td>\n",
       "      <td>1.959441</td>\n",
       "      <td>9.226150</td>\n",
       "    </tr>\n",
       "    <tr>\n",
       "      <th>999</th>\n",
       "      <td>0.700438</td>\n",
       "      <td>0.907906</td>\n",
       "      <td>2.479590</td>\n",
       "      <td>9.283168</td>\n",
       "    </tr>\n",
       "  </tbody>\n",
       "</table>\n",
       "<p>1000 rows × 4 columns</p>\n",
       "</div>"
      ],
      "text/plain": [
       "           X1        X2        X3          Y\n",
       "0    2.017284  0.969672  1.322154   9.048274\n",
       "1   -0.384347  1.042059  1.934429   5.620539\n",
       "2    1.718156  1.527338  2.110364  11.741008\n",
       "3    0.596675 -0.165156  3.075305   9.653289\n",
       "4    1.220425  0.828551  2.486482  11.982931\n",
       "..        ...       ...       ...        ...\n",
       "995  0.432514 -0.014072  1.296396   5.218871\n",
       "996  0.666455 -0.595158  3.454589   8.383418\n",
       "997  0.812427  2.275764  2.419934   9.767427\n",
       "998  1.867103  0.472542  1.959441   9.226150\n",
       "999  0.700438  0.907906  2.479590   9.283168\n",
       "\n",
       "[1000 rows x 4 columns]"
      ]
     },
     "execution_count": 6,
     "metadata": {},
     "output_type": "execute_result"
    }
   ],
   "source": [
    "# linear，Y缺失\n",
    "def test_data_generator(n=1000,miss_ratio=0.2):\n",
    "    n_miss=int(n*miss_ratio)\n",
    "    n_obs=n-n_miss\n",
    "    x1=np.random.normal(1, 1, n)\n",
    "    x2=np.random.normal(1, 1, n)\n",
    "    x3=np.random.normal(2, 1, n)\n",
    "    y=2*x1+0.5*x2+3*x3+np.random.normal(0, 1, n)\n",
    "    mask=np.append(np.ones(n_obs),np.zeros(n_miss))\n",
    "    np.random.shuffle(mask)\n",
    "    y=np.where(mask==1,y,np.nan)\n",
    "    return pd.DataFrame({'X1':x1,'X2':x2,'X3':x3,'Y':y},index=np.arange(n))\n",
    "\n",
    "data=test_data_generator(n=1000)\n",
    "data"
   ]
  },
  {
   "cell_type": "code",
   "execution_count": 7,
   "metadata": {},
   "outputs": [
    {
     "data": {
      "text/html": [
       "<div>\n",
       "<style scoped>\n",
       "    .dataframe tbody tr th:only-of-type {\n",
       "        vertical-align: middle;\n",
       "    }\n",
       "\n",
       "    .dataframe tbody tr th {\n",
       "        vertical-align: top;\n",
       "    }\n",
       "\n",
       "    .dataframe thead th {\n",
       "        text-align: right;\n",
       "    }\n",
       "</style>\n",
       "<table border=\"1\" class=\"dataframe\">\n",
       "  <thead>\n",
       "    <tr style=\"text-align: right;\">\n",
       "      <th></th>\n",
       "      <th>coef</th>\n",
       "      <th>ste</th>\n",
       "    </tr>\n",
       "  </thead>\n",
       "  <tbody>\n",
       "    <tr>\n",
       "      <th>X1</th>\n",
       "      <td>2.007050</td>\n",
       "      <td>0.030549</td>\n",
       "    </tr>\n",
       "    <tr>\n",
       "      <th>X2</th>\n",
       "      <td>0.432766</td>\n",
       "      <td>0.034000</td>\n",
       "    </tr>\n",
       "    <tr>\n",
       "      <th>X3</th>\n",
       "      <td>2.999671</td>\n",
       "      <td>0.023252</td>\n",
       "    </tr>\n",
       "  </tbody>\n",
       "</table>\n",
       "</div>"
      ],
      "text/plain": [
       "        coef       ste\n",
       "X1  2.007050  0.030549\n",
       "X2  0.432766  0.034000\n",
       "X3  2.999671  0.023252"
      ]
     },
     "execution_count": 7,
     "metadata": {},
     "output_type": "execute_result"
    }
   ],
   "source": [
    "lm=LinearRegression()\n",
    "m=MissingDataLinear(data,'Y',['X1','X2','X3'],lm,5)\n",
    "m.fit()"
   ]
  },
  {
   "cell_type": "code",
   "execution_count": 8,
   "metadata": {},
   "outputs": [],
   "source": [
    "# linear，X缺失\n",
    "def test_data_generator(n=1000,miss_ratio=0.1):\n",
    "    n_miss=int(n*miss_ratio)\n",
    "    n_obs=n-n_miss\n",
    "    x1=np.random.normal(1, 1, n)\n",
    "    x2=np.random.normal(1, 1, n)\n",
    "    x3=np.random.normal(2, 1, n)\n",
    "    y=2*x1+0.5*x2+3*x3+np.random.normal(0, 1, n)\n",
    "    mask=np.append(np.ones(n_obs),np.zeros(n_miss))\n",
    "    np.random.shuffle(mask)\n",
    "    x1=np.where(mask==1,x1,np.nan)\n",
    "    np.random.shuffle(mask)\n",
    "    x2=np.where(mask==1,x2,np.nan)\n",
    "    #return pd.DataFrame({'X1':x1,'X2':x2,'X3':x3,'Y':y,'R':mask},index=np.arange(n))\n",
    "    return pd.DataFrame({'X1':x1,'X2':x2,'X3':x3,'Y':y},index=np.arange(n))\n",
    "\n",
    "data=test_data_generator(n=1000)"
   ]
  },
  {
   "cell_type": "code",
   "execution_count": 9,
   "metadata": {},
   "outputs": [
    {
     "name": "stdout",
     "output_type": "stream",
     "text": [
      "Dependent variable: Y\n",
      "Independent variables:['X1', 'X2', 'X3']\n",
      "Missing variable(s): ['X1', 'X2']\n",
      "Non-missing independent variable(s): ['X3']\n",
      "No. Observations: 1000\n",
      "Missing num: 187.0\n",
      "-----------------------\n",
      "Using model:LinearRegression()\n"
     ]
    }
   ],
   "source": [
    "lm=LinearRegression()\n",
    "m=MissingDataLinear(data,'Y',['X1','X2','X3'],lm,5)\n",
    "print(m)"
   ]
  },
  {
   "cell_type": "code",
   "execution_count": 10,
   "metadata": {},
   "outputs": [
    {
     "name": "stdout",
     "output_type": "stream",
     "text": [
      "        coef       ste\n",
      "X1  2.058933  0.043987\n",
      "X2  0.511401  0.034546\n",
      "X3  2.978563  0.024917\n"
     ]
    }
   ],
   "source": [
    "result=m.fit()\n",
    "print(result)"
   ]
  },
  {
   "cell_type": "code",
   "execution_count": 11,
   "metadata": {},
   "outputs": [],
   "source": [
    "# logistics，Y缺失\n",
    "def test_data_generator(n=1000,miss_ratio=0.2):\n",
    "    n_miss=int(n*miss_ratio)\n",
    "    n_obs=n-n_miss\n",
    "    x1=np.random.normal(1, 1, n)\n",
    "    x2=np.random.normal(1, 1, n)\n",
    "    x3=np.random.normal(2, 1, n)\n",
    "    p=1/(1+np.exp(-(2*x1+0.5*x2+3*x3+np.random.normal(0, 0.5, n))))\n",
    "    y=np.random.binomial(1,p)\n",
    "    mask=np.append(np.ones(n_obs),np.zeros(n_miss))\n",
    "    np.random.shuffle(mask)\n",
    "    y=np.where(mask==1,y,np.nan)\n",
    "    #return pd.DataFrame({'X1':x1,'X2':x2,'X3':x3,'Y':y,'R':mask},index=np.arange(n))\n",
    "    return pd.DataFrame({'X1':x1,'X2':x2,'X3':x3,'Y':y},index=np.arange(n))\n",
    "\n",
    "data=test_data_generator(n=10000)"
   ]
  },
  {
   "cell_type": "code",
   "execution_count": 12,
   "metadata": {},
   "outputs": [
    {
     "name": "stdout",
     "output_type": "stream",
     "text": [
      "Dependent variable: Y\n",
      "Independent variables:['X1', 'X2', 'X3']\n",
      "Missing variable(s): Y\n",
      "Non-missing independent variable(s): ['X1', 'X2', 'X3']\n",
      "No. Observations: 10000\n",
      "Missing num: 2000.0\n",
      "-----------------------\n",
      "Using model:LogisticRegression(C=1)\n"
     ]
    }
   ],
   "source": [
    "model=LogisticRegression(C=1)\n",
    "m=MissingDataLogistics(data,'Y',['X1','X2','X3'],model,5)\n",
    "print(m)"
   ]
  },
  {
   "cell_type": "code",
   "execution_count": 13,
   "metadata": {},
   "outputs": [
    {
     "data": {
      "text/plain": [
       "array([1.84425399, 0.47178011, 2.75488699])"
      ]
     },
     "execution_count": 13,
     "metadata": {},
     "output_type": "execute_result"
    }
   ],
   "source": [
    "m.fit()"
   ]
  },
  {
   "cell_type": "code",
   "execution_count": 14,
   "metadata": {},
   "outputs": [],
   "source": [
    "# logistics，X缺失\n",
    "def test_data_generator(n=1000,miss_ratio=0.2):\n",
    "    n_miss=int(n*miss_ratio)\n",
    "    n_obs=n-n_miss\n",
    "    x1=np.random.normal(1, 1, n)\n",
    "    x2=np.random.normal(1, 1, n)\n",
    "    x3=np.random.normal(2, 1, n)\n",
    "    p=1/(1+np.exp(-(2*x1+0.5*x2+3*x3+np.random.normal(0, 0.5, n))))\n",
    "    #p=1/(1+np.exp(-(1*x1+1*x2+1*x3+np.random.normal(0, 1, n))))\n",
    "    y=np.random.binomial(1,p)\n",
    "    mask=np.append(np.ones(n_obs),np.zeros(n_miss))\n",
    "    np.random.shuffle(mask)\n",
    "    x1=np.where(mask==1,x1,np.nan)\n",
    "    np.random.shuffle(mask)\n",
    "    x2=np.where(mask==1,x2,np.nan)\n",
    "    #return pd.DataFrame({'X1':x1,'X2':x2,'X3':x3,'Y':y,'R':mask},index=np.arange(n))\n",
    "    return pd.DataFrame({'X1':x1,'X2':x2,'X3':x3,'Y':y},index=np.arange(n))\n",
    "\n",
    "data=test_data_generator(5000,0.1)"
   ]
  },
  {
   "cell_type": "code",
   "execution_count": 15,
   "metadata": {},
   "outputs": [
    {
     "name": "stdout",
     "output_type": "stream",
     "text": [
      "Dependent variable: Y\n",
      "Independent variables:['X1', 'X2', 'X3']\n",
      "Missing variable(s): ['X1', 'X2']\n",
      "Non-missing independent variable(s): ['X3']\n",
      "No. Observations: 5000\n",
      "Missing num: 955.0\n",
      "-----------------------\n",
      "Using model:LogisticRegression(C=1)\n"
     ]
    }
   ],
   "source": [
    "model=LogisticRegression(C=1)\n",
    "m=MissingDataLogistics(data,'Y',['X1','X2','X3'],model,5)\n",
    "print(m)"
   ]
  },
  {
   "cell_type": "code",
   "execution_count": 16,
   "metadata": {},
   "outputs": [
    {
     "data": {
      "text/plain": [
       "array([1.86171282, 0.52375148, 2.79711691])"
      ]
     },
     "execution_count": 16,
     "metadata": {},
     "output_type": "execute_result"
    }
   ],
   "source": [
    "m.fit()"
   ]
  },
  {
   "cell_type": "code",
   "execution_count": null,
   "metadata": {},
   "outputs": [],
   "source": []
  }
 ],
 "metadata": {
  "kernelspec": {
   "display_name": "Python 3.8.16 ('py38')",
   "language": "python",
   "name": "python3"
  },
  "language_info": {
   "codemirror_mode": {
    "name": "ipython",
    "version": 3
   },
   "file_extension": ".py",
   "mimetype": "text/x-python",
   "name": "python",
   "nbconvert_exporter": "python",
   "pygments_lexer": "ipython3",
   "version": "3.8.16"
  },
  "orig_nbformat": 4,
  "vscode": {
   "interpreter": {
    "hash": "178729c8f5e9eedf2bae7ea816478a89001acb4e6c66f13ce64ddbee9dd2f878"
   }
  }
 },
 "nbformat": 4,
 "nbformat_minor": 2
}
